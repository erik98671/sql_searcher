{
 "cells": [
  {
   "cell_type": "markdown",
   "id": "7fd2931e-34a9-4d5e-80fb-eb75595b7086",
   "metadata": {
    "tags": []
   },
   "source": [
    "# SQL Search Tool"
   ]
  },
  {
   "cell_type": "code",
   "execution_count": 1,
   "id": "30ad33f8-6deb-42f9-b115-aaa208f67f39",
   "metadata": {},
   "outputs": [],
   "source": [
    "#Define the search term\n",
    "search_term = \"partition\""
   ]
  },
  {
   "cell_type": "code",
   "execution_count": 2,
   "id": "3395171a-251b-4144-8438-d8274e029f64",
   "metadata": {},
   "outputs": [],
   "source": [
    "# Define the list index files\n",
    "index_files = [\"sql_file_index_2022.txt\",\n",
    "               \"sql_file_index_2021.txt\",\n",
    "               \"sql_file_index_2020.txt\",\n",
    "               \"sql_file_index_2019.txt\",\n",
    "               \"sql_file_index_2018.txt\",\n",
    "               \"sql_file_index_2017.txt\",\n",
    "               \"sql_file_index_2016.txt\",\n",
    "               \"sql_file_index_2015.txt\",\n",
    "               \"sql_file_index_V_BAT.txt\",\n",
    "              ]"
   ]
  },
  {
   "cell_type": "code",
   "execution_count": 3,
   "id": "00e677de-2f7f-46b2-ab58-c05d774da391",
   "metadata": {},
   "outputs": [],
   "source": [
    "import os\n",
    "import time\n",
    "import datetime\n",
    "\n",
    "class SQL_Searcher:\n",
    "    def __init__(self):\n",
    "        pass\n",
    "\n",
    "    def create_index(self, root_folder, index_file_name, max_size):\n",
    "        with open(index_file_name, \"w\") as output_file:\n",
    "            for root, dirs, files in os.walk(root_folder):\n",
    "                for file in files:\n",
    "                    if file.endswith(\"sql\"):\n",
    "                        file_time = time.ctime(os.path.getmtime(os.path.join(root, file)))\n",
    "                        file_size = os.stat(os.path.join(root, file)).st_size\n",
    "                        file_name = os.path.join(root, file)\n",
    "\n",
    "                        if file_size < max_size:\n",
    "                            output_text = f\"{file_time}\\t{file_size}\\t{file_name}\\n\"\n",
    "                            output_file.write(output_text)\n",
    "\n",
    "    def print_search_files(self, index_file_name, search_term):\n",
    "        with open(index_file_name, \"r\") as file:\n",
    "            data = file.readlines()\n",
    "\n",
    "            for line in data:\n",
    "                fields = line.split(\"\\t\")\n",
    "                file_name_path = fields[2].replace(\"\\n\", \"\")\n",
    "\n",
    "                with open(file_name_path, \"r\") as sql_file:\n",
    "                    sql_data = sql_file.readlines()\n",
    "                    \n",
    "                    for sql_line in sql_data:\n",
    "                        if search_term.upper() in sql_line.upper():\n",
    "                            print(fields[2])\n",
    "                            #print(f'<a href=\"file:///{fields[2]}\">{fields[2]}</a>')"
   ]
  },
  {
   "cell_type": "code",
   "execution_count": 4,
   "id": "8f3b4d5d-b642-4945-a9bd-f844805f14ba",
   "metadata": {},
   "outputs": [],
   "source": [
    "# Create the object\n",
    "tool = SQL_Searcher()"
   ]
  },
  {
   "cell_type": "code",
   "execution_count": 5,
   "id": "97f09c5d-bd47-4501-9d96-3bf9a108a562",
   "metadata": {},
   "outputs": [
    {
     "name": "stdout",
     "output_type": "stream",
     "text": [
      "H:\\Timeline\\2022\\20220109\\Rush Request for Salem HealthWest Valley Query\\Salem HealthWest Valley Query request.sql\n",
      "\n",
      "H:\\Timeline\\2022\\20220109\\Rush Request for Salem HealthWest Valley Query\\Salem HealthWest Valley Query request.sql\n",
      "\n",
      "H:\\Timeline\\2022\\20220109\\Rush Request for Salem HealthWest Valley Query\\Salem HealthWest Valley Query request.sql\n",
      "\n",
      "H:\\Timeline\\2022\\20220109\\Rush Request for Salem HealthWest Valley Query\\Salem HealthWest Valley Query request.sql\n",
      "\n",
      "H:\\Timeline\\2022\\20220109\\Rush Request for Salem HealthWest Valley Query\\Salem HealthWest Valley Query request.sql\n",
      "\n",
      "H:\\Timeline\\2022\\20220109\\Rush Request for Salem HealthWest Valley Query\\Salem HealthWest Valley Query request.sql\n",
      "\n",
      "H:\\Timeline\\2022\\20220109\\Rush Request for Salem HealthWest Valley Query\\Salem HealthWest Valley Query request.sql\n",
      "\n"
     ]
    }
   ],
   "source": [
    "tool.print_search_files(index_files[0], search_term) # 2022"
   ]
  },
  {
   "cell_type": "code",
   "execution_count": 6,
   "id": "51dabb74-f551-4be4-bc6f-e6d83e8f91b7",
   "metadata": {},
   "outputs": [
    {
     "name": "stdout",
     "output_type": "stream",
     "text": [
      "H:\\Timeline\\2021\\20210110\\Facetsprodrequest - Dump of claims in Medical Provider Relations and PNF queues\\Dump of claims in PNF queue 09082020.sql\n",
      "\n",
      "H:\\Timeline\\2021\\20210110\\Facetsprodrequest - Dump of claims in Medical Provider Relations and PNF queues\\Dump of claims in PNF queue 09082020.sql\n",
      "\n",
      "H:\\Timeline\\2021\\20210228\\Data Query Request - OHSU claims for Tuality Members\\Data Query - OHSU claims for Tuality group.sql\n",
      "\n",
      "H:\\Timeline\\2021\\20210228\\Data Query Request - OHSU claims for Tuality Members\\Data Query - OHSU claims for Tuality group.sql\n",
      "\n",
      "H:\\Timeline\\2021\\20210228\\Query - Identification of claims denying U0003 with CES edit for P00000225091\\Query - Identification of claims denying U0003 with CES edit for P00000225091.sql\n",
      "\n",
      "H:\\Timeline\\2021\\20210411\\RUSH Reinsurance 2020 Individual and Small Group\\Reinsurance 2020 Individual and Small Group.sql\n",
      "\n",
      "H:\\Timeline\\2021\\20210411\\RUSH Reinsurance 2020 Individual and Small Group\\Reinsurance 2020 Individual and Small Group.sql\n",
      "\n",
      "H:\\Timeline\\2021\\20210411\\RUSH Reinsurance 2020 Individual and Small Group\\Reinsurance 2020 Individual and Small Group.sql\n",
      "\n",
      "H:\\Timeline\\2021\\20210411\\RUSH Reinsurance 2020 Individual and Small Group\\Reinsurance 2020 Individual and Small Group.sql\n",
      "\n",
      "H:\\Timeline\\2021\\20210411\\RUSH Reinsurance 2020 Individual and Small Group\\Reinsurance 2020 Individual and Small Group.sql\n",
      "\n",
      "H:\\Timeline\\2021\\20210418\\Individual Agents Prem_Comm_MLives_2021.sql\n",
      "\n",
      "H:\\Timeline\\2021\\20210418\\Individual Agents Prem_Comm_MLives_2021.sql\n",
      "\n",
      "H:\\Timeline\\2021\\20210613\\DPREMIER DPREMIERAK zero claims audit\\DPREMIER_DPREMIERAK zero claims audit 20210608.sql\n",
      "\n",
      "H:\\Timeline\\2021\\20210613\\DPREMIER DPREMIERAK zero claims audit\\DPREMIER_DPREMIERAK zero claims audit 20210608.sql\n",
      "\n",
      "H:\\Timeline\\2021\\20210613\\DPREMIER DPREMIERAK zero claims audit\\DPREMIER_DPREMIERAK zero claims audit 20210608.sql\n",
      "\n",
      "H:\\Timeline\\2021\\20210613\\DPREMIER DPREMIERAK zero claims audit\\DPREMIER_DPREMIERAK zero claims audit 20210608.sql\n",
      "\n",
      "H:\\Timeline\\2021\\20210613\\DPREMIER DPREMIERAK zero claims audit\\DPREMIER_DPREMIERAK zero claims audit 20210608.sql\n",
      "\n",
      "H:\\Timeline\\2021\\20210613\\DPREMIER DPREMIERAK zero claims audit\\DPREMIER_DPREMIERAK zero claims audit 20210608.sql\n",
      "\n",
      "H:\\Timeline\\2021\\20210613\\DPREMIER DPREMIERAK zero claims audit\\DPREMIER_DPREMIERAK zero claims audit 20210608.sql\n",
      "\n",
      "H:\\Timeline\\2021\\20210613\\DPREMIER DPREMIERAK zero claims audit\\DPREMIER_DPREMIERAK zero claims audit 20210608.sql\n",
      "\n",
      "H:\\Timeline\\2021\\20210711\\Facetsprodrequest - Dump of claims in Medical Provider Relations and PNF queues\\Dump of claims in PNF queue 09082020 20210707.sql\n",
      "\n",
      "H:\\Timeline\\2021\\20210711\\Facetsprodrequest - Dump of claims in Medical Provider Relations and PNF queues\\Dump of claims in PNF queue 09082020 20210707.sql\n",
      "\n",
      "H:\\Timeline\\2021\\20210711\\Query of dental claims for any member with more than 1 space maintainer in the same quadrant\\Members­_dental claims with more than 1 space maintainer in same quadrant 20210708.sql\n",
      "\n",
      "H:\\Timeline\\2021\\20210808\\Accumulator request\\Accumulator UMG.sql\n",
      "\n",
      "H:\\Timeline\\2021\\20210808\\Accumulator request\\Accumulator UMG.sql\n",
      "\n",
      "H:\\Timeline\\2021\\20210808\\Accumulator request\\Accumulator UMG.sql\n",
      "\n",
      "H:\\Timeline\\2021\\20210808\\Accumulator request\\Accumulator UMG.sql\n",
      "\n",
      "H:\\Timeline\\2021\\20210808\\Query of dental claims for any member with more than 1 space maintainer in the same quadrant\\Members­_dental claims with more than 1 space maintainer in same quadrant.sql\n",
      "\n",
      "H:\\Timeline\\2021\\20210905\\10001496 Sheridan FDG incentive transfer inquiry\\Incentive inquiry request.sql\n",
      "\n",
      "H:\\Timeline\\2021\\20210905\\10001496 Sheridan FDG incentive transfer inquiry\\Incentive inquiry request.sql\n",
      "\n",
      "H:\\Timeline\\2021\\20210905\\10001496 Sheridan FDG incentive transfer inquiry\\Incentive inquiry request.sql\n",
      "\n",
      "H:\\Timeline\\2021\\20211024\\Query Request  Dump of claims in Medical Provider Relations and PNF queues\\Dump of claims in PNF queue 09082020.sql\n",
      "\n",
      "H:\\Timeline\\2021\\20211024\\Query Request  Dump of claims in Medical Provider Relations and PNF queues\\Dump of claims in PNF queue 09082020.sql\n",
      "\n",
      "H:\\Timeline\\2021\\20211107\\Query Request  Dump of claims in Medical Provider Relations and PNF queues\\Dump of claims in PNF queue 09082020.sql\n",
      "\n",
      "H:\\Timeline\\2021\\20211107\\Query Request  Dump of claims in Medical Provider Relations and PNF queues\\Dump of claims in PNF queue 09082020.sql\n",
      "\n",
      "H:\\Timeline\\2021\\20211219\\GOBHI auths\\dbo.ODS_SP_GOBHI_PREAUTH_FILES_S.sql\n",
      "\n",
      "H:\\Timeline\\2021\\20211219\\GOBHI auths\\dbo.ODS_SP_GOBHI_PREAUTH_FILES_S.sql\n",
      "\n"
     ]
    }
   ],
   "source": [
    "tool.print_search_files(index_files[1], search_term) # 2021"
   ]
  },
  {
   "cell_type": "code",
   "execution_count": 7,
   "id": "a9f0bfa0-d959-414c-82ac-57ab7f36c14d",
   "metadata": {},
   "outputs": [],
   "source": [
    "tool.print_search_files(index_files[2], search_term) # 2020"
   ]
  },
  {
   "cell_type": "code",
   "execution_count": null,
   "id": "dd007a07-4195-461e-9c5e-598bca3f2564",
   "metadata": {},
   "outputs": [],
   "source": [
    "tool.print_search_files(index_files[3], search_term) # 2019"
   ]
  },
  {
   "cell_type": "code",
   "execution_count": null,
   "id": "fe820435-4bc3-4429-8960-265d55dda0ac",
   "metadata": {},
   "outputs": [],
   "source": [
    "tool.print_search_files(index_files[4], search_term) # 2018"
   ]
  },
  {
   "cell_type": "code",
   "execution_count": null,
   "id": "2ac55ab7-7a1a-4574-b256-e0a81c8aa8dd",
   "metadata": {},
   "outputs": [],
   "source": [
    "tool.print_search_files(index_files[5], search_term) # 2017"
   ]
  },
  {
   "cell_type": "code",
   "execution_count": null,
   "id": "5ef9be2b-7ac4-4a27-a214-8366056bbbc1",
   "metadata": {},
   "outputs": [],
   "source": [
    "tool.print_search_files(index_files[6], search_term) # 2016"
   ]
  },
  {
   "cell_type": "code",
   "execution_count": null,
   "id": "2e63cc97-179c-420e-a141-c169c124e651",
   "metadata": {},
   "outputs": [],
   "source": [
    "tool.print_search_files(index_files[7], search_term) # 2015"
   ]
  },
  {
   "cell_type": "code",
   "execution_count": null,
   "id": "51f8ed79-02c3-465e-bdc7-5f06c6f01d31",
   "metadata": {},
   "outputs": [],
   "source": [
    "tool.print_search_files(index_files[8], search_term) # V Business Analyst Team"
   ]
  }
 ],
 "metadata": {
  "kernelspec": {
   "display_name": "Python 3 (ipykernel)",
   "language": "python",
   "name": "python3"
  },
  "language_info": {
   "codemirror_mode": {
    "name": "ipython",
    "version": 3
   },
   "file_extension": ".py",
   "mimetype": "text/x-python",
   "name": "python",
   "nbconvert_exporter": "python",
   "pygments_lexer": "ipython3",
   "version": "3.7.8"
  }
 },
 "nbformat": 4,
 "nbformat_minor": 5
}
