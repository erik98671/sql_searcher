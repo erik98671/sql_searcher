{
 "cells": [
  {
   "cell_type": "markdown",
   "id": "584410cf-19a5-421e-afe0-1a192d0af8ae",
   "metadata": {},
   "source": [
    "# Search files by file name"
   ]
  },
  {
   "cell_type": "code",
   "execution_count": 4,
   "id": "1ac34df6-3d58-4ade-918e-48727d74e0a1",
   "metadata": {},
   "outputs": [],
   "source": [
    "search_term = \"OFCA\" # This is case-sensitive"
   ]
  },
  {
   "cell_type": "code",
   "execution_count": 5,
   "id": "0c10bff8-4477-4dac-8891-558b5fb3921f",
   "metadata": {},
   "outputs": [],
   "source": [
    "# Define the list index files\n",
    "index_files = [\"sql_file_index_2022.txt\",\n",
    "               \"sql_file_index_2021.txt\",\n",
    "               \"sql_file_index_2020.txt\",\n",
    "               \"sql_file_index_2019.txt\",\n",
    "               \"sql_file_index_2018.txt\",\n",
    "               \"sql_file_index_2017.txt\",\n",
    "               \"sql_file_index_2016.txt\",\n",
    "               \"sql_file_index_2015.txt\",\n",
    "               \"sql_file_index_V_BAT.txt\",\n",
    "              ]"
   ]
  },
  {
   "cell_type": "code",
   "execution_count": 6,
   "id": "18fc6df5-dd7d-48c0-8760-28e8ad07d854",
   "metadata": {},
   "outputs": [
    {
     "name": "stdout",
     "output_type": "stream",
     "text": [
      "Tue Jan 26 13:41:55 2021\t5852\tH:\\Timeline\\2021\\20210131\\SDIS and OFCA 02-01-21 Enrollment Census\\SDIS and OFCA 02-01-21 Enrollment Census.sql\n",
      "\n",
      "Mon Feb  1 08:09:10 2021\t4090\tH:\\Timeline\\2021\\20210207\\SDIS and OFCA 02-01-21 Enrollment Census\\SDIS and OFCA 02-01-21 Enrollment Census Details.sql\n",
      "\n",
      "Mon Feb  1 09:03:31 2021\t2600\tH:\\Timeline\\2021\\20210207\\SDIS and OFCA 02-01-21 Enrollment Census\\SDIS and OFCA 02-01-21 Enrollment Census Totals.sql\n",
      "\n",
      "Tue Dec  7 11:10:25 2021\t1985\tH:\\Timeline\\2021\\20211212\\SDIS 12-1-21 Enrollment Census\\OFCA 12-1-21 Enrollment Census.sql\n",
      "\n"
     ]
    }
   ],
   "source": [
    "with open(index_files[1]) as file:\n",
    "    data = file.readlines()\n",
    "    \n",
    "    for row in data:\n",
    "        if search_term in row:\n",
    "            print(row)"
   ]
  },
  {
   "cell_type": "code",
   "execution_count": null,
   "id": "15e25952-774e-42e7-bd7a-02d1d824ec5e",
   "metadata": {},
   "outputs": [],
   "source": []
  }
 ],
 "metadata": {
  "kernelspec": {
   "display_name": "Python 3 (ipykernel)",
   "language": "python",
   "name": "python3"
  },
  "language_info": {
   "codemirror_mode": {
    "name": "ipython",
    "version": 3
   },
   "file_extension": ".py",
   "mimetype": "text/x-python",
   "name": "python",
   "nbconvert_exporter": "python",
   "pygments_lexer": "ipython3",
   "version": "3.7.8"
  }
 },
 "nbformat": 4,
 "nbformat_minor": 5
}
